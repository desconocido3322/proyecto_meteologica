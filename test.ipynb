{
 "cells": [
  {
   "cell_type": "code",
   "execution_count": 61,
   "metadata": {},
   "outputs": [],
   "source": [
    "import pandas as pd\n",
    "import json\n",
    "from datetime import datetime"
   ]
  },
  {
   "cell_type": "code",
   "execution_count": 62,
   "metadata": {},
   "outputs": [
    {
     "name": "stdout",
     "output_type": "stream",
     "text": [
      "                           temperature    co2Level     light  uvLevel   \n",
      "hour                                                                    \n",
      "2024-10-24 22:00:00+00:00    24.480000   63.675000  4.825000      0.0  \\\n",
      "2024-10-24 23:00:00+00:00    23.227187   69.831250  4.531250      0.0   \n",
      "2024-11-05 02:00:00+00:00    23.622857  127.714286  3.057143      0.0   \n",
      "2024-11-05 03:00:00+00:00    24.122222  130.777778  4.222222      0.0   \n",
      "2024-11-05 04:00:00+00:00    24.695065  103.974026  3.535065      0.0   \n",
      "2024-11-05 05:00:00+00:00    24.500000  104.500000  3.214286      0.0   \n",
      "\n",
      "                            humidity  \n",
      "hour                                  \n",
      "2024-10-24 22:00:00+00:00  46.025000  \n",
      "2024-10-24 23:00:00+00:00  47.581250  \n",
      "2024-11-05 02:00:00+00:00  45.057143  \n",
      "2024-11-05 03:00:00+00:00  45.666667  \n",
      "2024-11-05 04:00:00+00:00  44.670130  \n",
      "2024-11-05 05:00:00+00:00  44.071429  \n"
     ]
    }
   ],
   "source": [
    "csv_file = 'datos_convertidos.csv'\n",
    "df = pd.read_csv(csv_file)\n",
    "\n",
    "df['timestamp'] = pd.to_datetime(df['timestamp'])\n",
    "\n",
    "df['hour'] = df['timestamp'].dt.floor('H')\n",
    "\n",
    "df = df.drop(columns=['_id', '__v', 'timestamp'])\n",
    "\n",
    "grouped = df.groupby('hour').mean()\n",
    "\n",
    "print(grouped)\n"
   ]
  },
  {
   "cell_type": "code",
   "execution_count": null,
   "metadata": {},
   "outputs": [
    {
     "name": "stdout",
     "output_type": "stream",
     "text": [
      "                           temperature   humidity     light\n",
      "hour                                                       \n",
      "2024-10-24 22:00:00+00:00    24.480000  46.025000  4.825000\n",
      "2024-10-24 23:00:00+00:00    23.227187  47.581250  4.531250\n",
      "2024-11-05 02:00:00+00:00    23.622857  45.057143  3.057143\n",
      "2024-11-05 03:00:00+00:00    24.122222  45.666667  4.222222\n",
      "2024-11-05 04:00:00+00:00    24.695065  44.670130  3.535065\n",
      "2024-11-05 05:00:00+00:00    24.500000  44.071429  3.214286\n",
      "                           temperature   humidity     light\n",
      "hour                                                       \n",
      "2024-10-24 22:00:00+00:00    24.480000  46.025000  4.825000\n",
      "2024-10-24 23:00:00+00:00    23.227187  47.581250  4.531250\n",
      "2024-11-05 02:00:00+00:00    23.622857  45.057143  3.057143\n",
      "2024-11-05 03:00:00+00:00    24.122222  45.666667  4.222222\n",
      "2024-11-05 04:00:00+00:00    24.695065  44.670130  3.535065\n",
      "2024-11-05 05:00:00+00:00    24.500000  44.071429  3.214286\n"
     ]
    }
   ],
   "source": [
    "filtered_dataFrame = grouped[['temperature', 'humidity', 'light']]\n",
    "print(filtered_dataFrame)"
   ]
  }
 ],
 "metadata": {
  "kernelspec": {
   "display_name": "Python 3",
   "language": "python",
   "name": "python3"
  },
  "language_info": {
   "codemirror_mode": {
    "name": "ipython",
    "version": 3
   },
   "file_extension": ".py",
   "mimetype": "text/x-python",
   "name": "python",
   "nbconvert_exporter": "python",
   "pygments_lexer": "ipython3",
   "version": "3.11.2"
  }
 },
 "nbformat": 4,
 "nbformat_minor": 2
}
